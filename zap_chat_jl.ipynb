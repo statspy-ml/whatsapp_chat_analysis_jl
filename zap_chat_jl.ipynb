{
 "cells": [
  {
   "cell_type": "code",
   "execution_count": 1,
   "id": "spread-librarian",
   "metadata": {},
   "outputs": [],
   "source": [
    "using DataFrames, Dates"
   ]
  },
  {
   "cell_type": "code",
   "execution_count": 14,
   "id": "desirable-retro",
   "metadata": {},
   "outputs": [
    {
     "data": {
      "text/plain": [
       "read_chats (generic function with 1 method)"
      ]
     },
     "execution_count": 14,
     "metadata": {},
     "output_type": "execute_result"
    }
   ],
   "source": [
    "function read_chats(str)\n",
    "    df = DataFrame(date=Date[], time=Time[], number=String[], text=String[])\n",
    "    for row in eachmatch(r\"^(?<date>.+?) (?<time>.+?) \\- (?<number>.*?)\\: (?<text>.*)$\"m, str)\n",
    "        date = parse(Date, row[\"date\"], dateformat\"dd/mm/yyyy\")\n",
    "        time = parse(Time, row[\"time\"])\n",
    "        push!(df, (; date, time, number=row[\"number\"], text=row[\"text\"]))\n",
    "    end\n",
    "    return df\n",
    "end"
   ]
  },
  {
   "cell_type": "code",
   "execution_count": 30,
   "id": "equal-monitoring",
   "metadata": {},
   "outputs": [
    {
     "data": {
      "text/plain": [
       "IOStream(<file /home/statspy/projects_py/analise_text_zap/chat3.txt>)"
      ]
     },
     "execution_count": 30,
     "metadata": {},
     "output_type": "execute_result"
    }
   ],
   "source": [
    "a=open(\"/home/statspy/projects_py/analise_text_zap/chat3.txt\")"
   ]
  },
  {
   "cell_type": "code",
   "execution_count": 32,
   "id": "corporate-fitting",
   "metadata": {},
   "outputs": [
    {
     "data": {
      "text/plain": [
       "IOStream(<file /home/statspy/projects_py/analise_text_zap/chat3.txt>)"
      ]
     },
     "execution_count": 32,
     "metadata": {},
     "output_type": "execute_result"
    }
   ],
   "source": [
    "typeof(a)\n",
    "a"
   ]
  },
  {
   "cell_type": "code",
   "execution_count": 29,
   "id": "danish-thinking",
   "metadata": {},
   "outputs": [
    {
     "ename": "LoadError",
     "evalue": "MethodError: no method matching read(::var\"#29#30\", ::Vector{UInt8})\n\u001b[0mClosest candidates are:\n\u001b[0m  read(\u001b[91m::AbstractString\u001b[39m, ::Any...) at io.jl:432",
     "output_type": "error",
     "traceback": [
      "MethodError: no method matching read(::var\"#29#30\", ::Vector{UInt8})\n\u001b[0mClosest candidates are:\n\u001b[0m  read(\u001b[91m::AbstractString\u001b[39m, ::Any...) at io.jl:432",
      "",
      "Stacktrace:",
      " [1] top-level scope",
      "   @ In[29]:2",
      " [2] eval",
      "   @ ./boot.jl:360 [inlined]",
      " [3] include_string(mapexpr::typeof(REPL.softscope), mod::Module, code::String, filename::String)",
      "   @ Base ./loading.jl:1094"
     ]
    }
   ],
   "source": [
    "files = read(\"/home/statspy/projects_py/analise_text_zap/chat3.txt\")\n",
    "a=read(files) do file\n",
    "    line = 0\n",
    "    while ! eof(file)\n",
    "        s=readline(file)\n",
    "        if occursin(r\"^\\d{2}/\\d{2}/\\d{4}\", s)\n",
    "            line += 1\n",
    "            println(s)\n",
    "        end\n",
    "    end\n",
    "end"
   ]
  },
  {
   "cell_type": "code",
   "execution_count": 40,
   "id": "current-discrimination",
   "metadata": {},
   "outputs": [
    {
     "data": {
      "text/plain": [
       "27-element Vector{String}:\n",
       " \"22/05/2020 20:49 - Eber Santos: Opa! Valeu!,,,,,,,,,,,,,\"\n",
       " \"22/05/2020 20:50 - +55 41 9691-1062: Boa noite,,,,,,,,,,,,,\"\n",
       " \"22/05/2020 20:50 - +55 41 9859-9500: Boa noite pessoal. Vocês que são de Ti. Qual a vantagem da linguagem R em relação ao Python? Sabem de algum curso de linguagem R?,,,,,,,,,,,,,\"\n",
       " \"22/05/2020 20:52 - \\u200e+55 41 9840-9112 entrou usando o link de convite deste grupo,,,,,,,,,,,,,\"\n",
       " \"22/05/2020 21:00 - Eber Santos: acho que poderei te responder ao final do curso, hoje não tenho afinidade com nenhuma das duas, mas a empresa usa as duas em areas distintas.,,,,,,,,,,,\"\n",
       " \"22/05/2020 21:02 - +55 41 9859-9500: Obrigado. Eu estou aprendendo o Python. Você tem algum material ensinando o básico da linguagem R que possa me dar? heee,,,,,,,,,,,,,\"\n",
       " \"22/05/2020 21:03 - Eber Santos: Ainda nada,,,,,,,,,,,,,\"\n",
       " \"22/05/2020 21:06 - \\u200e+55 41 9677-3471 entrou usando o link de convite deste grupo,,,,,,,,,,,,,\"\n",
       " \"22/05/2020 21:07 - \\u200e+55 41 9900-0881 entrou usando o link de convite deste grupo,,,,,,,,,,,,,\"\n",
       " \"22/05/2020 21:11 - Você agora é um admin do grupo,,,,,,,,,,,,,\"\n",
       " \"22/05/2020 21:14 - \\u200e+55 41 8441-1391 entrou usando o link de convite deste grupo,,,,,,,,,,,,,\"\n",
       " \"22/05/2020 22:01 - +55 41 9906-5602: https://us04web.zoom.us/j/7284518871?pwd=L053OXpSNGtQZTE0UFVxN2hkRlpVZz09,,,,,,,,,,,,,\"\n",
       " \"22/05/2020 22:01 - +55 41 9906-5602: 08:30,,,,,,,,,,,,,\"\n",
       " ⋮\n",
       " \"23/05/2020 08:30 - +55 41 9906-5602: Ainda não,,,,,,,,,,,,,\"\n",
       " \"23/05/2020 09:10 - +55 41 9859-9500: caiu?,,,,,,,,,,,,,\"\n",
       " \"23/05/2020 09:10 - +55 41 9907-0031: aqui tambem,,,,,,,,,,,,,\"\n",
       " \"23/05/2020 09:10 - Gabriel: caiu,,,,,,,,,,,,,\"\n",
       " \"23/05/2020 09:10 - +55 41 9987-9677: acabou a reserva,,,,,,,,,,,,,\"\n",
       " \"23/05/2020 09:10 - +55 41 9907-0031: fechou tudo,,,,,,,,,,,,,\"\n",
       " \"23/05/2020 09:10 - +55 41 9691-1062: A reunião caiu,,,,,,,,,,,,,\"\n",
       " \"23/05/2020 09:10 - +55 41 9906-5602: Caiu,,,,,,,,,,,,,\"\n",
       " \"23/05/2020 09:10 - +55 41 9677-3471: Caiu,,,,,,,,,,,,,\"\n",
       " \"23/05/2020 09:10 - +55 41 8805-4831: Caiu,,,,,,,,,,,,,\"\n",
       " \"23/05/2020 09:11 - +55 41 9859-9500: Esse ZOOM é muito ruim,,,,,,,,,,,,,\"\n",
       " \"23/05/2020 09:12 - Eber Santos: Achei que era só eu,,,,,,,,,,,,,\""
      ]
     },
     "execution_count": 40,
     "metadata": {},
     "output_type": "execute_result"
    }
   ],
   "source": [
    "a=readlines(\"/home/statspy/projects_py/analise_text_zap/chat3.txt\")"
   ]
  },
  {
   "cell_type": "code",
   "execution_count": 43,
   "id": "democratic-lewis",
   "metadata": {},
   "outputs": [
    {
     "data": {
      "text/html": [
       "<table class=\"data-frame\"><thead><tr><th></th><th>date</th><th>time</th><th>number</th><th>text</th></tr><tr><th></th><th>Date</th><th>Time</th><th>String</th><th>String</th></tr></thead><tbody><p>0 rows × 4 columns</p></tbody></table>"
      ],
      "text/latex": [
       "\\begin{tabular}{r|cccc}\n",
       "\t& date & time & number & text\\\\\n",
       "\t\\hline\n",
       "\t& Date & Time & String & String\\\\\n",
       "\t\\hline\n",
       "\\end{tabular}\n"
      ],
      "text/plain": [
       "\u001b[1m0×4 DataFrame\u001b[0m"
      ]
     },
     "execution_count": 43,
     "metadata": {},
     "output_type": "execute_result"
    }
   ],
   "source": [
    "read_chats(\"a\")"
   ]
  },
  {
   "cell_type": "code",
   "execution_count": 38,
   "id": "victorian-adventure",
   "metadata": {},
   "outputs": [
    {
     "data": {
      "text/plain": [
       "String"
      ]
     },
     "execution_count": 38,
     "metadata": {},
     "output_type": "execute_result"
    }
   ],
   "source": [
    "typeof(a)"
   ]
  },
  {
   "cell_type": "code",
   "execution_count": null,
   "id": "checked-supplement",
   "metadata": {},
   "outputs": [],
   "source": []
  }
 ],
 "metadata": {
  "kernelspec": {
   "display_name": "Julia 1.6.1",
   "language": "julia",
   "name": "julia-1.6"
  },
  "language_info": {
   "file_extension": ".jl",
   "mimetype": "application/julia",
   "name": "julia",
   "version": "1.6.1"
  }
 },
 "nbformat": 4,
 "nbformat_minor": 5
}
